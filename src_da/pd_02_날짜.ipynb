{
 "cells": [
  {
   "cell_type": "code",
   "execution_count": 2,
   "metadata": {},
   "outputs": [],
   "source": [
    "import numpy as np\n",
    "import pandas as pd"
   ]
  },
  {
   "cell_type": "code",
   "execution_count": 3,
   "metadata": {},
   "outputs": [
    {
     "name": "stdout",
     "output_type": "stream",
     "text": [
      "2024-12-06 14:27:58.230349 <class 'pandas._libs.tslibs.timestamps.Timestamp'>\n"
     ]
    }
   ],
   "source": [
    "dt = pd.Timestamp.now()\n",
    "print(dt, type(dt))"
   ]
  },
  {
   "cell_type": "code",
   "execution_count": 5,
   "metadata": {},
   "outputs": [
    {
     "name": "stdout",
     "output_type": "stream",
     "text": [
      "2024-01-01 08:15:00\n",
      "2024-01-01 20:15:00\n",
      "2024-01-01 20:15:00\n",
      "2024-08-05 00:00:00\n",
      "2024-01-01 12:30:00\n"
     ]
    }
   ],
   "source": [
    "# 시간설정\n",
    "dt = pd.Timestamp('1/1/2024 08:15AM')\n",
    "print(dt)\n",
    "\n",
    "dt = pd.Timestamp('2024/01/01 08:15PM')\n",
    "print(dt)\n",
    "\n",
    "dt = pd.Timestamp('2024-01-01 08:15PM')\n",
    "print(dt)\n",
    "\n",
    "dt = pd.Timestamp('5 aug 2024')\n",
    "print(dt)\n",
    "\n",
    "dt = pd.Timestamp(2024, 1, 1, 12, 30)\n",
    "print(dt)"
   ]
  },
  {
   "cell_type": "code",
   "execution_count": 7,
   "metadata": {},
   "outputs": [
    {
     "name": "stdout",
     "output_type": "stream",
     "text": [
      "2024-12-06 15:00:00,2024-12-06 15:00:59.999999999\n",
      "2024-12-06 00:00:00,2024-12-07 23:59:59.999999999\n"
     ]
    }
   ],
   "source": [
    "# 기간\n",
    "pr = pd.Period('2024-12-06 15:00')\n",
    "print(pr.start_time, pr.end_time, sep=',')\n",
    "\n",
    "pr = pd.Period('2024-12-06 15:00', freq='2D')\n",
    "print(pr.start_time, pr.end_time, sep=',')"
   ]
  },
  {
   "cell_type": "code",
   "execution_count": 9,
   "metadata": {},
   "outputs": [
    {
     "data": {
      "text/plain": [
       "DatetimeIndex(['2024-01-01 08:15:00', '2024-01-01 20:15:00',\n",
       "               '2024-01-01 20:15:00', '2024-08-05 00:00:00'],\n",
       "              dtype='datetime64[ns]', freq=None)"
      ]
     },
     "execution_count": 9,
     "metadata": {},
     "output_type": "execute_result"
    }
   ],
   "source": [
    "# 날짜 인덱스\n",
    "di = pd.to_datetime(['1/1/2024 08:15AM', '2024/01/01 08:15PM', '2024-01-01 08:15PM', '5 aug 2024'], format='mixed')\n",
    "di"
   ]
  },
  {
   "cell_type": "code",
   "execution_count": 10,
   "metadata": {},
   "outputs": [
    {
     "name": "stdout",
     "output_type": "stream",
     "text": [
      "-341 days +09:13:16.272340 -341\n",
      "-341 days +09:13:16.272340,-341,33196,272340\n"
     ]
    }
   ],
   "source": [
    "ts = pd.Timestamp.now()\n",
    "ts1 = pd.Timestamp('2024-01-01')\n",
    "\n",
    "delta = ts1 - ts  # TimeDelta\n",
    "print(delta, delta.days)\n",
    "print(delta, delta.days, delta.seconds, delta.microseconds, sep=',')"
   ]
  },
  {
   "cell_type": "code",
   "execution_count": 11,
   "metadata": {},
   "outputs": [
    {
     "name": "stdout",
     "output_type": "stream",
     "text": [
      "2025-12-09 15:57:03.727660\n"
     ]
    }
   ],
   "source": [
    "dt = ts + pd.Timedelta('368 days 1:10:20')\n",
    "print(dt)"
   ]
  },
  {
   "cell_type": "code",
   "execution_count": null,
   "metadata": {},
   "outputs": [],
   "source": [
    "dr = pd.date_range(start='2024-05-01')"
   ]
  }
 ],
 "metadata": {
  "kernelspec": {
   "display_name": ".venv",
   "language": "python",
   "name": "python3"
  },
  "language_info": {
   "codemirror_mode": {
    "name": "ipython",
    "version": 3
   },
   "file_extension": ".py",
   "mimetype": "text/x-python",
   "name": "python",
   "nbconvert_exporter": "python",
   "pygments_lexer": "ipython3",
   "version": "3.10.11"
  }
 },
 "nbformat": 4,
 "nbformat_minor": 2
}
