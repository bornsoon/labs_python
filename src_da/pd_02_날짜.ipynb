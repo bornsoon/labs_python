{
 "cells": [
  {
   "cell_type": "code",
   "execution_count": 2,
   "metadata": {},
   "outputs": [],
   "source": [
    "import numpy as np\n",
    "import pandas as pd"
   ]
  },
  {
   "cell_type": "code",
   "execution_count": 3,
   "metadata": {},
   "outputs": [
    {
     "name": "stdout",
     "output_type": "stream",
     "text": [
      "2024-12-06 15:21:28.048359 <class 'pandas._libs.tslibs.timestamps.Timestamp'>\n"
     ]
    }
   ],
   "source": [
    "dt = pd.Timestamp.now()\n",
    "print(dt, type(dt))"
   ]
  },
  {
   "cell_type": "code",
   "execution_count": 4,
   "metadata": {},
   "outputs": [
    {
     "name": "stdout",
     "output_type": "stream",
     "text": [
      "2024-01-01 08:15:00\n",
      "2024-01-01 20:15:00\n",
      "2024-01-01 20:15:00\n",
      "2024-08-05 00:00:00\n",
      "2024-01-01 12:30:00\n"
     ]
    }
   ],
   "source": [
    "# 시간설정\n",
    "dt = pd.Timestamp('1/1/2024 08:15AM')\n",
    "print(dt)\n",
    "\n",
    "dt = pd.Timestamp('2024/01/01 08:15PM')\n",
    "print(dt)\n",
    "\n",
    "dt = pd.Timestamp('2024-01-01 08:15PM')\n",
    "print(dt)\n",
    "\n",
    "dt = pd.Timestamp('5 aug 2024')\n",
    "print(dt)\n",
    "\n",
    "dt = pd.Timestamp(2024, 1, 1, 12, 30)\n",
    "print(dt)"
   ]
  },
  {
   "cell_type": "code",
   "execution_count": 5,
   "metadata": {},
   "outputs": [
    {
     "name": "stdout",
     "output_type": "stream",
     "text": [
      "2024-12-06 15:00:00,2024-12-06 15:00:59.999999999\n",
      "2024-12-06 00:00:00,2024-12-07 23:59:59.999999999\n"
     ]
    }
   ],
   "source": [
    "# 기간\n",
    "pr = pd.Period('2024-12-06 15:00')\n",
    "print(pr.start_time, pr.end_time, sep=',')\n",
    "\n",
    "pr = pd.Period('2024-12-06 15:00', freq='2D')\n",
    "print(pr.start_time, pr.end_time, sep=',')"
   ]
  },
  {
   "cell_type": "code",
   "execution_count": 6,
   "metadata": {},
   "outputs": [
    {
     "data": {
      "text/plain": [
       "DatetimeIndex(['2024-01-01 08:15:00', '2024-01-01 20:15:00',\n",
       "               '2024-01-01 20:15:00', '2024-08-05 00:00:00'],\n",
       "              dtype='datetime64[ns]', freq=None)"
      ]
     },
     "execution_count": 6,
     "metadata": {},
     "output_type": "execute_result"
    }
   ],
   "source": [
    "# 날짜 인덱스\n",
    "di = pd.to_datetime(['1/1/2024 08:15AM', '2024/01/01 08:15PM', '2024-01-01 08:15PM', '5 aug 2024'], format='mixed')\n",
    "di"
   ]
  },
  {
   "cell_type": "code",
   "execution_count": 7,
   "metadata": {},
   "outputs": [
    {
     "name": "stdout",
     "output_type": "stream",
     "text": [
      "-341 days +08:38:31.894622 -341\n",
      "-341 days +08:38:31.894622,-341,31111,894622\n"
     ]
    }
   ],
   "source": [
    "ts = pd.Timestamp.now()\n",
    "ts1 = pd.Timestamp('2024-01-01')\n",
    "\n",
    "delta = ts1 - ts  # TimeDelta\n",
    "print(delta, delta.days)\n",
    "print(delta, delta.days, delta.seconds, delta.microseconds, sep=',')"
   ]
  },
  {
   "cell_type": "code",
   "execution_count": 8,
   "metadata": {},
   "outputs": [
    {
     "name": "stdout",
     "output_type": "stream",
     "text": [
      "2025-12-09 16:31:48.105378\n"
     ]
    }
   ],
   "source": [
    "dt = ts + pd.Timedelta('368 days 1:10:20')\n",
    "print(dt)"
   ]
  },
  {
   "cell_type": "code",
   "execution_count": 11,
   "metadata": {},
   "outputs": [
    {
     "name": "stdout",
     "output_type": "stream",
     "text": [
      "DatetimeIndex(['2024-05-01', '2024-05-02', '2024-05-03', '2024-05-04',\n",
      "               '2024-05-05', '2024-05-06', '2024-05-07', '2024-05-08',\n",
      "               '2024-05-09', '2024-05-10'],\n",
      "              dtype='datetime64[ns]', freq='D')\n",
      "DatetimeIndex([          '2024-05-01 00:00:00',\n",
      "               '2024-05-01 11:22:06.315789473',\n",
      "               '2024-05-01 22:44:12.631578947',\n",
      "               '2024-05-02 10:06:18.947368421',\n",
      "               '2024-05-02 21:28:25.263157894',\n",
      "               '2024-05-03 08:50:31.578947368',\n",
      "               '2024-05-03 20:12:37.894736842',\n",
      "               '2024-05-04 07:34:44.210526315',\n",
      "               '2024-05-04 18:56:50.526315789',\n",
      "               '2024-05-05 06:18:56.842105263',\n",
      "               '2024-05-05 17:41:03.157894736',\n",
      "               '2024-05-06 05:03:09.473684210',\n",
      "               '2024-05-06 16:25:15.789473684',\n",
      "               '2024-05-07 03:47:22.105263157',\n",
      "               '2024-05-07 15:09:28.421052631',\n",
      "               '2024-05-08 02:31:34.736842105',\n",
      "               '2024-05-08 13:53:41.052631579',\n",
      "               '2024-05-09 01:15:47.368421052',\n",
      "               '2024-05-09 12:37:53.684210526',\n",
      "                         '2024-05-10 00:00:00'],\n",
      "              dtype='datetime64[ns]', freq=None)\n",
      "DatetimeIndex(['2024-05-01', '2024-05-04', '2024-05-07', '2024-05-10'], dtype='datetime64[ns]', freq='3D')\n",
      "DatetimeIndex(['2024-05-01', '2024-05-02', '2024-05-03', '2024-05-04',\n",
      "               '2024-05-05', '2024-05-06', '2024-05-07'],\n",
      "              dtype='datetime64[ns]', freq='D')\n"
     ]
    }
   ],
   "source": [
    "dr = pd.date_range(start='2024-05-01', end='2024-05-10')\n",
    "print(dr)\n",
    "\n",
    "dr = pd.date_range(start='2024-05-01', end='2024-05-10', periods=20)\n",
    "print(dr)\n",
    "\n",
    "dr = pd.date_range(start='2024-05-01', end='2024-05-10', freq='3D')\n",
    "print(dr)\n",
    "\n",
    "dr = pd.date_range(start='2024-05-01', periods=7)\n",
    "print(dr)"
   ]
  },
  {
   "cell_type": "code",
   "execution_count": 13,
   "metadata": {},
   "outputs": [
    {
     "data": {
      "text/plain": [
       "DatetimeIndex(['2024-12-06', '2024-12-07', '2024-12-08', '2024-12-09',\n",
       "               '2024-12-10', '2024-12-11', '2024-12-12'],\n",
       "              dtype='datetime64[ns]', freq='D')"
      ]
     },
     "execution_count": 13,
     "metadata": {},
     "output_type": "execute_result"
    }
   ],
   "source": [
    "pd.date_range(start=pd.Timestamp.now().date(), periods=7)"
   ]
  }
 ],
 "metadata": {
  "kernelspec": {
   "display_name": ".venv",
   "language": "python",
   "name": "python3"
  },
  "language_info": {
   "codemirror_mode": {
    "name": "ipython",
    "version": 3
   },
   "file_extension": ".py",
   "mimetype": "text/x-python",
   "name": "python",
   "nbconvert_exporter": "python",
   "pygments_lexer": "ipython3",
   "version": "3.10.11"
  }
 },
 "nbformat": 4,
 "nbformat_minor": 2
}
