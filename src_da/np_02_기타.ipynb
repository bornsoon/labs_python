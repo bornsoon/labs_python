{
 "cells": [
  {
   "cell_type": "code",
   "execution_count": 1,
   "metadata": {},
   "outputs": [],
   "source": [
    "import numpy as np"
   ]
  },
  {
   "cell_type": "code",
   "execution_count": 3,
   "metadata": {},
   "outputs": [
    {
     "name": "stdout",
     "output_type": "stream",
     "text": [
      "[[1 2]\n",
      " [3 4]] 2534983266448\n"
     ]
    }
   ],
   "source": [
    "# 형태변경\n",
    "na = np.array([[1, 2], [3, 4]])\n",
    "print(na, id(na))"
   ]
  },
  {
   "cell_type": "code",
   "execution_count": 4,
   "metadata": {},
   "outputs": [
    {
     "name": "stdout",
     "output_type": "stream",
     "text": [
      "[1 2 3 4] 2534988217008\n"
     ]
    }
   ],
   "source": [
    "na1 = na.ravel()\n",
    "print(na1, id(na1))"
   ]
  },
  {
   "cell_type": "code",
   "execution_count": 5,
   "metadata": {},
   "outputs": [
    {
     "name": "stdout",
     "output_type": "stream",
     "text": [
      "[1 2 3 4 5 6 7 8] 2534988216912\n",
      "[[1 2]\n",
      " [3 4]\n",
      " [5 6]\n",
      " [7 8]] 2534988487568\n"
     ]
    }
   ],
   "source": [
    "na2 = np.array([1, 2, 3, 4, 5, 6, 7 ,8])\n",
    "na3 = na2.reshape(4, 2)\n",
    "print(na2, id(na2))\n",
    "print(na3, id(na3))"
   ]
  },
  {
   "cell_type": "code",
   "execution_count": 7,
   "metadata": {},
   "outputs": [
    {
     "name": "stdout",
     "output_type": "stream",
     "text": [
      "[[1 2 3 4 5 6 7 8]] [[1 2 3 4 5 6 7 8]]\n"
     ]
    }
   ],
   "source": [
    "print(na3.reshape(-1, 8), na3.reshape(1, -1))"
   ]
  },
  {
   "cell_type": "code",
   "execution_count": null,
   "metadata": {},
   "outputs": [],
   "source": [
    "print(na3.reshape(-1, 8))"
   ]
  },
  {
   "cell_type": "markdown",
   "metadata": {},
   "source": [
    "### 인덱싱"
   ]
  },
  {
   "cell_type": "code",
   "execution_count": 8,
   "metadata": {},
   "outputs": [
    {
     "data": {
      "text/plain": [
       "1"
      ]
     },
     "execution_count": 8,
     "metadata": {},
     "output_type": "execute_result"
    }
   ],
   "source": [
    "a = np.array([1, 2, 3, 4, 5])\n",
    "a[0]"
   ]
  },
  {
   "cell_type": "markdown",
   "metadata": {},
   "source": [
    "## 윈도우 (<-슬라이싱)"
   ]
  },
  {
   "cell_type": "code",
   "execution_count": 9,
   "metadata": {},
   "outputs": [
    {
     "name": "stdout",
     "output_type": "stream",
     "text": [
      "[1 2 3 4 5] [1 2]\n",
      "[10  2  3  4  5] [10  2]\n"
     ]
    }
   ],
   "source": [
    "b = a[0:2]   # ndarray에서 슬라이싱하면 윈도우 생성됨!\n",
    "print(a, b)\n",
    "\n",
    "b[0] = 10\n",
    "print(a, b)   # 윈도우 조심!"
   ]
  },
  {
   "cell_type": "markdown",
   "metadata": {},
   "source": [
    "## ndarray에서는 슬라이싱할 때 꼬옥 .copy() 붙이기!!!!!!!!"
   ]
  },
  {
   "cell_type": "code",
   "execution_count": 10,
   "metadata": {},
   "outputs": [
    {
     "name": "stdout",
     "output_type": "stream",
     "text": [
      "[10  2  3  4  5] [10  2]\n",
      "[10  2  3  4  5] [20  2]\n"
     ]
    }
   ],
   "source": [
    "c = a[0:2].copy()\n",
    "print(a, c)\n",
    "\n",
    "c[0] = 20\n",
    "print(a, c)"
   ]
  }
 ],
 "metadata": {
  "kernelspec": {
   "display_name": ".venv",
   "language": "python",
   "name": "python3"
  },
  "language_info": {
   "codemirror_mode": {
    "name": "ipython",
    "version": 3
   },
   "file_extension": ".py",
   "mimetype": "text/x-python",
   "name": "python",
   "nbconvert_exporter": "python",
   "pygments_lexer": "ipython3",
   "version": "3.10.11"
  }
 },
 "nbformat": 4,
 "nbformat_minor": 2
}
